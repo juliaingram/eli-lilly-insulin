{
 "cells": [
  {
   "cell_type": "markdown",
   "id": "95eb4b8c",
   "metadata": {},
   "source": [
    "# Eli Lilly’s insulin price cuts may provide relief for Americans, but is it enough?"
   ]
  },
  {
   "cell_type": "code",
   "execution_count": 1,
   "id": "10f8ca44",
   "metadata": {},
   "outputs": [],
   "source": [
    "import pandas as pd\n",
    "\n",
    "pd.set_option(\"display.max_columns\", None)"
   ]
  },
  {
   "cell_type": "markdown",
   "id": "0f2c70e2",
   "metadata": {},
   "source": [
    "## NHIS data shows the extent of insulin rationing\n",
    "\n",
    "A survey of Americans that asks about a variety of health conditions, including diabetes, shows that 14% of Americans surveyed taking insulin skipped, reduced, or delayed taking insulin to save money. 24% of insulin users who took the survey and also recieve public assistance or welfare reported rationing. 18% of Black insulin users reported rationing, above the average.\n",
    "\n",
    "I would need to speak with experts to discern whether the sample size is large enough in these calculations to derive meaningful conclusions. "
   ]
  },
  {
   "cell_type": "code",
   "execution_count": 2,
   "id": "03cd4d73",
   "metadata": {},
   "outputs": [],
   "source": [
    "df = pd.read_csv('adult21.csv')"
   ]
  },
  {
   "cell_type": "code",
   "execution_count": 3,
   "id": "ef625b9a",
   "metadata": {},
   "outputs": [
    {
     "name": "stdout",
     "output_type": "stream",
     "text": [
      "total rationing: 144\n",
      "total using insulin: 1004\n"
     ]
    },
    {
     "data": {
      "text/plain": [
       "14.342629482071715"
      ]
     },
     "execution_count": 3,
     "metadata": {},
     "output_type": "execute_result"
    }
   ],
   "source": [
    "# People taking insulin (HHX is a unique identifer for respondant)\n",
    "insulin_df = df[(df.DIBINS_A == 1)]\n",
    "total_insulin = insulin_df.HHX.nunique()\n",
    "\n",
    "# Total number of people that marked one of three categories - delayed taking insulin, skipped doses, or \n",
    "# took less insulin to save money\n",
    "rationing_df = insulin_df[(insulin_df.INSSKIP12M_A == 1) \n",
    "                            | (insulin_df.INSLESS12M_A == 1)\n",
    "                            | (insulin_df.INSDLY12M_A == 1)]\n",
    "total_rationing = rationing_df.HHX.nunique()\n",
    "\n",
    "print('total rationing:', total_rationing)\n",
    "print('total using insulin:', total_insulin)\n",
    "pct_rationing = total_rationing / total_insulin * 100\n",
    "pct_rationing"
   ]
  },
  {
   "cell_type": "code",
   "execution_count": 4,
   "id": "1430b423",
   "metadata": {},
   "outputs": [
    {
     "name": "stdout",
     "output_type": "stream",
     "text": [
      "total uninsured using insulin: 9\n"
     ]
    },
    {
     "data": {
      "text/plain": [
       "6.25"
      ]
     },
     "execution_count": 4,
     "metadata": {},
     "output_type": "execute_result"
    }
   ],
   "source": [
    "# Percentage above among uninsured patients - likely too few people for accurate percentage\n",
    "uninsured_rationing = rationing_df[(rationing_df.COVER_A == 4) | (rationing_df.COVER65_A == 6)].HHX.nunique()\n",
    "print('total uninsured using insulin:', uninsured_rationing)\n",
    "uninsured_rationing / total_rationing * 100"
   ]
  },
  {
   "cell_type": "code",
   "execution_count": 5,
   "id": "67582d06",
   "metadata": {},
   "outputs": [
    {
     "data": {
      "text/html": [
       "<div>\n",
       "<style scoped>\n",
       "    .dataframe tbody tr th:only-of-type {\n",
       "        vertical-align: middle;\n",
       "    }\n",
       "\n",
       "    .dataframe tbody tr th {\n",
       "        vertical-align: top;\n",
       "    }\n",
       "\n",
       "    .dataframe thead th {\n",
       "        text-align: right;\n",
       "    }\n",
       "</style>\n",
       "<table border=\"1\" class=\"dataframe\">\n",
       "  <thead>\n",
       "    <tr style=\"text-align: right;\">\n",
       "      <th></th>\n",
       "      <th>index</th>\n",
       "      <th>race_rationing</th>\n",
       "      <th>race_insulin</th>\n",
       "      <th>pct</th>\n",
       "    </tr>\n",
       "  </thead>\n",
       "  <tbody>\n",
       "    <tr>\n",
       "      <th>0</th>\n",
       "      <td>1</td>\n",
       "      <td>98</td>\n",
       "      <td>696</td>\n",
       "      <td>14.080460</td>\n",
       "    </tr>\n",
       "    <tr>\n",
       "      <th>1</th>\n",
       "      <td>2</td>\n",
       "      <td>35</td>\n",
       "      <td>192</td>\n",
       "      <td>18.229167</td>\n",
       "    </tr>\n",
       "    <tr>\n",
       "      <th>2</th>\n",
       "      <td>8</td>\n",
       "      <td>7</td>\n",
       "      <td>54</td>\n",
       "      <td>12.962963</td>\n",
       "    </tr>\n",
       "    <tr>\n",
       "      <th>3</th>\n",
       "      <td>6</td>\n",
       "      <td>2</td>\n",
       "      <td>6</td>\n",
       "      <td>33.333333</td>\n",
       "    </tr>\n",
       "    <tr>\n",
       "      <th>4</th>\n",
       "      <td>3</td>\n",
       "      <td>1</td>\n",
       "      <td>32</td>\n",
       "      <td>3.125000</td>\n",
       "    </tr>\n",
       "    <tr>\n",
       "      <th>5</th>\n",
       "      <td>5</td>\n",
       "      <td>1</td>\n",
       "      <td>12</td>\n",
       "      <td>8.333333</td>\n",
       "    </tr>\n",
       "  </tbody>\n",
       "</table>\n",
       "</div>"
      ],
      "text/plain": [
       "   index  race_rationing  race_insulin        pct\n",
       "0      1              98           696  14.080460\n",
       "1      2              35           192  18.229167\n",
       "2      8               7            54  12.962963\n",
       "3      6               2             6  33.333333\n",
       "4      3               1            32   3.125000\n",
       "5      5               1            12   8.333333"
      ]
     },
     "execution_count": 5,
     "metadata": {},
     "output_type": "execute_result"
    }
   ],
   "source": [
    "# Looking by race, a larger percentage of black respondants (2) ration insulin than white respondants (1)\n",
    "race_rationing = rationing_df.RACEALLP_A.value_counts().reset_index(name='race_rationing')\n",
    "race_insulin = insulin_df.RACEALLP_A.value_counts().reset_index(name='race_insulin')\n",
    "race_breakdown = race_rationing.merge(race_insulin, on='index')\n",
    "race_breakdown['pct'] = race_breakdown.race_rationing / race_breakdown.race_insulin * 100\n",
    "race_breakdown"
   ]
  },
  {
   "cell_type": "code",
   "execution_count": 6,
   "id": "4f9cfc5e",
   "metadata": {},
   "outputs": [
    {
     "data": {
      "text/html": [
       "<div>\n",
       "<style scoped>\n",
       "    .dataframe tbody tr th:only-of-type {\n",
       "        vertical-align: middle;\n",
       "    }\n",
       "\n",
       "    .dataframe tbody tr th {\n",
       "        vertical-align: top;\n",
       "    }\n",
       "\n",
       "    .dataframe thead th {\n",
       "        text-align: right;\n",
       "    }\n",
       "</style>\n",
       "<table border=\"1\" class=\"dataframe\">\n",
       "  <thead>\n",
       "    <tr style=\"text-align: right;\">\n",
       "      <th></th>\n",
       "      <th>index</th>\n",
       "      <th>income_rationing</th>\n",
       "      <th>income_insulin</th>\n",
       "      <th>pct</th>\n",
       "    </tr>\n",
       "  </thead>\n",
       "  <tbody>\n",
       "    <tr>\n",
       "      <th>0</th>\n",
       "      <td>2.0</td>\n",
       "      <td>122</td>\n",
       "      <td>895</td>\n",
       "      <td>13.631285</td>\n",
       "    </tr>\n",
       "    <tr>\n",
       "      <th>1</th>\n",
       "      <td>1.0</td>\n",
       "      <td>12</td>\n",
       "      <td>50</td>\n",
       "      <td>24.000000</td>\n",
       "    </tr>\n",
       "    <tr>\n",
       "      <th>2</th>\n",
       "      <td>9.0</td>\n",
       "      <td>1</td>\n",
       "      <td>2</td>\n",
       "      <td>50.000000</td>\n",
       "    </tr>\n",
       "    <tr>\n",
       "      <th>3</th>\n",
       "      <td>8.0</td>\n",
       "      <td>1</td>\n",
       "      <td>3</td>\n",
       "      <td>33.333333</td>\n",
       "    </tr>\n",
       "  </tbody>\n",
       "</table>\n",
       "</div>"
      ],
      "text/plain": [
       "   index  income_rationing  income_insulin        pct\n",
       "0    2.0               122             895  13.631285\n",
       "1    1.0                12              50  24.000000\n",
       "2    9.0                 1               2  50.000000\n",
       "3    8.0                 1               3  33.333333"
      ]
     },
     "execution_count": 6,
     "metadata": {},
     "output_type": "execute_result"
    }
   ],
   "source": [
    "# Looking by whether respondant recieves public income assistance as a proxy for low-income (1),\n",
    "# low-income diabetes users ration at nearly double the rate\n",
    "income_rationing = rationing_df.INCWELF_A.value_counts().reset_index(name='income_rationing')\n",
    "income_insulin = insulin_df.INCWELF_A.value_counts().reset_index(name='income_insulin')\n",
    "income_breakdown = income_rationing.merge(income_insulin, on='index')\n",
    "income_breakdown['pct'] = income_breakdown.income_rationing / income_breakdown.income_insulin * 100\n",
    "income_breakdown"
   ]
  },
  {
   "cell_type": "markdown",
   "id": "bbc30ec3",
   "metadata": {},
   "source": [
    "## MEPS data provides insight into the costs' of Eli Lilly's drugs\n",
    "\n",
    "Using the Medical Expenditure Panel Survey, we can assess how much patients are paying for Humalog and Humalin, the drugs Eli Lilly will be reducing the cost of by 70%. We can also comapre those costs to the costs of insulin products produced by Sanofi and Novo Nordisk, the other two companies dominating the insulin market. "
   ]
  },
  {
   "cell_type": "code",
   "execution_count": null,
   "id": "31e869cb",
   "metadata": {},
   "outputs": [],
   "source": [
    "meps = pd.read_excel('h220a.xlsx')"
   ]
  },
  {
   "cell_type": "code",
   "execution_count": null,
   "id": "56e69307",
   "metadata": {},
   "outputs": [],
   "source": [
    "total_lilly = meps[(meps.RXNAME.str.contains('HUMALOG') == True) | (meps.RXNAME.str.contains == 'HUMULIN')].shape[0]\n",
    "total_insulin = meps[meps.RXDRGNAM.str.contains('INSULIN')].shape[0]\n",
    "total_lilly / total_insulin * 100"
   ]
  },
  {
   "cell_type": "code",
   "execution_count": null,
   "id": "9931b2b4",
   "metadata": {},
   "outputs": [],
   "source": [
    "# Average out-of-pocket cost per scrip among all patients recieving Humalog and Humalin (Eli Lilly drugs)\n",
    "meps[(meps.RXNAME.str.contains('HUMALOG') == True) | (meps.RXNAME.str.contains == 'HUMULIN')].RXSF20X.mean()"
   ]
  },
  {
   "cell_type": "code",
   "execution_count": null,
   "id": "854c9e87",
   "metadata": {},
   "outputs": [],
   "source": [
    "# Average out-of-pocket cost per scrip among all UNINSURED patients recieving Humalog and Humalin (Eli Lilly drugs)\n",
    "# Setting the out of pocket cost equal to the total cost - that way we can see they recieved no assistance\n",
    "meps[(meps.RXSF20X == meps.RXXP20X) &\n",
    "    ((meps.RXNAME.str.contains('HUMALOG') == True) | (meps.RXNAME.str.contains == 'HUMULIN'))].RXSF20X.mean()"
   ]
  },
  {
   "cell_type": "code",
   "execution_count": null,
   "id": "6ef1660c",
   "metadata": {},
   "outputs": [],
   "source": [
    "# Cost of the drugs before insurance \n",
    "meps[(meps.RXNAME.str.contains('HUMALOG') == True) | (meps.RXNAME.str.contains == 'HUMULIN')].RXXP20X.mean()"
   ]
  },
  {
   "cell_type": "code",
   "execution_count": null,
   "id": "b6ae1361",
   "metadata": {},
   "outputs": [],
   "source": [
    "# Once Eli Lilly reduces prices by 70%, the price of the drug before insurance\n",
    "842 - (842 * 0.7)"
   ]
  }
 ],
 "metadata": {
  "kernelspec": {
   "display_name": "Python 3 (ipykernel)",
   "language": "python",
   "name": "python3"
  },
  "language_info": {
   "codemirror_mode": {
    "name": "ipython",
    "version": 3
   },
   "file_extension": ".py",
   "mimetype": "text/x-python",
   "name": "python",
   "nbconvert_exporter": "python",
   "pygments_lexer": "ipython3",
   "version": "3.10.0"
  }
 },
 "nbformat": 4,
 "nbformat_minor": 5
}
